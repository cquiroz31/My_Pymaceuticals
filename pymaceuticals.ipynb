{
 "cells": [
  {
   "cell_type": "markdown",
   "metadata": {},
   "source": [
    "## Observations and Insights "
   ]
  },
  {
   "cell_type": "markdown",
   "metadata": {},
   "source": []
  },
  {
   "cell_type": "code",
   "execution_count": 3,
   "metadata": {},
   "outputs": [],
   "source": [
    "# Dependencies and Setup\n",
    "import matplotlib.pyplot as plt\n",
    "import pandas as pd\n",
    "import scipy.stats as st\n",
    "import numpy as np\n",
    "from scipy.stats import linregress\n",
    "\n",
    "# Study data files\n",
    "mouse_metadata_path = \"data/Mouse_metadata.csv\"\n",
    "study_results_path = \"data/Study_results.csv\"\n",
    "\n",
    "# Read the mouse data and the study results\n",
    "mouse_metadata = pd.read_csv(mouse_metadata_path)\n",
    "study_results = pd.read_csv(study_results_path)\n",
    "\n",
    "# Combine the data into a single dataset\n",
    "full_data_df = pd.merge(mouse_metadata, study_results, on=\"Mouse ID\")\n",
    "\n",
    "#mouse dataframe\n",
    "mouse_metadata_df = pd.DataFrame(mouse_metadata)"
   ]
  },
  {
   "cell_type": "code",
   "execution_count": 4,
   "metadata": {},
   "outputs": [
    {
     "data": {
      "text/html": [
       "<div>\n",
       "<style scoped>\n",
       "    .dataframe tbody tr th:only-of-type {\n",
       "        vertical-align: middle;\n",
       "    }\n",
       "\n",
       "    .dataframe tbody tr th {\n",
       "        vertical-align: top;\n",
       "    }\n",
       "\n",
       "    .dataframe thead th {\n",
       "        text-align: right;\n",
       "    }\n",
       "</style>\n",
       "<table border=\"1\" class=\"dataframe\">\n",
       "  <thead>\n",
       "    <tr style=\"text-align: right;\">\n",
       "      <th></th>\n",
       "      <th>Mouse ID</th>\n",
       "      <th>Sex</th>\n",
       "      <th>Age_months</th>\n",
       "      <th>Weight (g)</th>\n",
       "    </tr>\n",
       "    <tr>\n",
       "      <th>Drug Regimen</th>\n",
       "      <th></th>\n",
       "      <th></th>\n",
       "      <th></th>\n",
       "      <th></th>\n",
       "    </tr>\n",
       "  </thead>\n",
       "  <tbody>\n",
       "    <tr>\n",
       "      <th>Capomulin</th>\n",
       "      <td>25</td>\n",
       "      <td>25</td>\n",
       "      <td>25</td>\n",
       "      <td>25</td>\n",
       "    </tr>\n",
       "    <tr>\n",
       "      <th>Ceftamin</th>\n",
       "      <td>25</td>\n",
       "      <td>25</td>\n",
       "      <td>25</td>\n",
       "      <td>25</td>\n",
       "    </tr>\n",
       "    <tr>\n",
       "      <th>Infubinol</th>\n",
       "      <td>25</td>\n",
       "      <td>25</td>\n",
       "      <td>25</td>\n",
       "      <td>25</td>\n",
       "    </tr>\n",
       "    <tr>\n",
       "      <th>Ketapril</th>\n",
       "      <td>25</td>\n",
       "      <td>25</td>\n",
       "      <td>25</td>\n",
       "      <td>25</td>\n",
       "    </tr>\n",
       "    <tr>\n",
       "      <th>Naftisol</th>\n",
       "      <td>25</td>\n",
       "      <td>25</td>\n",
       "      <td>25</td>\n",
       "      <td>25</td>\n",
       "    </tr>\n",
       "    <tr>\n",
       "      <th>Placebo</th>\n",
       "      <td>25</td>\n",
       "      <td>25</td>\n",
       "      <td>25</td>\n",
       "      <td>25</td>\n",
       "    </tr>\n",
       "    <tr>\n",
       "      <th>Propriva</th>\n",
       "      <td>25</td>\n",
       "      <td>25</td>\n",
       "      <td>25</td>\n",
       "      <td>25</td>\n",
       "    </tr>\n",
       "    <tr>\n",
       "      <th>Ramicane</th>\n",
       "      <td>25</td>\n",
       "      <td>25</td>\n",
       "      <td>25</td>\n",
       "      <td>25</td>\n",
       "    </tr>\n",
       "    <tr>\n",
       "      <th>Stelasyn</th>\n",
       "      <td>24</td>\n",
       "      <td>24</td>\n",
       "      <td>24</td>\n",
       "      <td>24</td>\n",
       "    </tr>\n",
       "    <tr>\n",
       "      <th>Zoniferol</th>\n",
       "      <td>25</td>\n",
       "      <td>25</td>\n",
       "      <td>25</td>\n",
       "      <td>25</td>\n",
       "    </tr>\n",
       "  </tbody>\n",
       "</table>\n",
       "</div>"
      ],
      "text/plain": [
       "              Mouse ID  Sex  Age_months  Weight (g)\n",
       "Drug Regimen                                       \n",
       "Capomulin           25   25          25          25\n",
       "Ceftamin            25   25          25          25\n",
       "Infubinol           25   25          25          25\n",
       "Ketapril            25   25          25          25\n",
       "Naftisol            25   25          25          25\n",
       "Placebo             25   25          25          25\n",
       "Propriva            25   25          25          25\n",
       "Ramicane            25   25          25          25\n",
       "Stelasyn            24   24          24          24\n",
       "Zoniferol           25   25          25          25"
      ]
     },
     "execution_count": 4,
     "metadata": {},
     "output_type": "execute_result"
    }
   ],
   "source": [
    "group_mouse_metadata_df = mouse_metadata_df.groupby('Drug Regimen')\n",
    "group_mouse_metadata_df.count()"
   ]
  },
  {
   "cell_type": "code",
   "execution_count": 6,
   "metadata": {},
   "outputs": [
    {
     "data": {
      "text/plain": [
       "1888"
      ]
     },
     "execution_count": 6,
     "metadata": {},
     "output_type": "execute_result"
    }
   ],
   "source": [
    "#Dropping duplicate rows\n",
    "cleaned_full_data_df = full_data_df.drop_duplicates(subset=['Mouse ID', 'Timepoint'])\n",
    "cleaned_full_data_df.sort_values('Drug Regimen')\n",
    "len(cleaned_full_data_df)"
   ]
  },
  {
   "cell_type": "markdown",
   "metadata": {},
   "source": [
    "## Summary Statistics"
   ]
  },
  {
   "cell_type": "code",
   "execution_count": 7,
   "metadata": {},
   "outputs": [
    {
     "data": {
      "text/html": [
       "<div>\n",
       "<style scoped>\n",
       "    .dataframe tbody tr th:only-of-type {\n",
       "        vertical-align: middle;\n",
       "    }\n",
       "\n",
       "    .dataframe tbody tr th {\n",
       "        vertical-align: top;\n",
       "    }\n",
       "\n",
       "    .dataframe thead th {\n",
       "        text-align: right;\n",
       "    }\n",
       "</style>\n",
       "<table border=\"1\" class=\"dataframe\">\n",
       "  <thead>\n",
       "    <tr style=\"text-align: right;\">\n",
       "      <th></th>\n",
       "      <th>Mean</th>\n",
       "      <th>Median</th>\n",
       "      <th>Variance</th>\n",
       "      <th>Standard Deviation</th>\n",
       "      <th>SEM</th>\n",
       "    </tr>\n",
       "    <tr>\n",
       "      <th>Drug Regimen</th>\n",
       "      <th></th>\n",
       "      <th></th>\n",
       "      <th></th>\n",
       "      <th></th>\n",
       "      <th></th>\n",
       "    </tr>\n",
       "  </thead>\n",
       "  <tbody>\n",
       "    <tr>\n",
       "      <th>Capomulin</th>\n",
       "      <td>40.675741</td>\n",
       "      <td>41.557809</td>\n",
       "      <td>24.947764</td>\n",
       "      <td>4.994774</td>\n",
       "      <td>0.329346</td>\n",
       "    </tr>\n",
       "    <tr>\n",
       "      <th>Ceftamin</th>\n",
       "      <td>52.591172</td>\n",
       "      <td>51.776157</td>\n",
       "      <td>39.290177</td>\n",
       "      <td>6.268188</td>\n",
       "      <td>0.469821</td>\n",
       "    </tr>\n",
       "    <tr>\n",
       "      <th>Infubinol</th>\n",
       "      <td>52.884795</td>\n",
       "      <td>51.820584</td>\n",
       "      <td>43.128684</td>\n",
       "      <td>6.567243</td>\n",
       "      <td>0.492236</td>\n",
       "    </tr>\n",
       "    <tr>\n",
       "      <th>Ketapril</th>\n",
       "      <td>55.235638</td>\n",
       "      <td>53.698743</td>\n",
       "      <td>68.553577</td>\n",
       "      <td>8.279709</td>\n",
       "      <td>0.603860</td>\n",
       "    </tr>\n",
       "    <tr>\n",
       "      <th>Naftisol</th>\n",
       "      <td>54.331565</td>\n",
       "      <td>52.509285</td>\n",
       "      <td>66.173479</td>\n",
       "      <td>8.134708</td>\n",
       "      <td>0.596466</td>\n",
       "    </tr>\n",
       "    <tr>\n",
       "      <th>Placebo</th>\n",
       "      <td>54.033581</td>\n",
       "      <td>52.288934</td>\n",
       "      <td>61.168083</td>\n",
       "      <td>7.821003</td>\n",
       "      <td>0.581331</td>\n",
       "    </tr>\n",
       "    <tr>\n",
       "      <th>Propriva</th>\n",
       "      <td>52.393463</td>\n",
       "      <td>50.909965</td>\n",
       "      <td>43.138803</td>\n",
       "      <td>6.568014</td>\n",
       "      <td>0.525862</td>\n",
       "    </tr>\n",
       "    <tr>\n",
       "      <th>Ramicane</th>\n",
       "      <td>40.216745</td>\n",
       "      <td>40.673236</td>\n",
       "      <td>23.486704</td>\n",
       "      <td>4.846308</td>\n",
       "      <td>0.320955</td>\n",
       "    </tr>\n",
       "    <tr>\n",
       "      <th>Stelasyn</th>\n",
       "      <td>54.233149</td>\n",
       "      <td>52.431737</td>\n",
       "      <td>59.450562</td>\n",
       "      <td>7.710419</td>\n",
       "      <td>0.573111</td>\n",
       "    </tr>\n",
       "    <tr>\n",
       "      <th>Zoniferol</th>\n",
       "      <td>53.236507</td>\n",
       "      <td>51.818479</td>\n",
       "      <td>48.533355</td>\n",
       "      <td>6.966589</td>\n",
       "      <td>0.516398</td>\n",
       "    </tr>\n",
       "  </tbody>\n",
       "</table>\n",
       "</div>"
      ],
      "text/plain": [
       "                   Mean     Median   Variance  Standard Deviation       SEM\n",
       "Drug Regimen                                                               \n",
       "Capomulin     40.675741  41.557809  24.947764            4.994774  0.329346\n",
       "Ceftamin      52.591172  51.776157  39.290177            6.268188  0.469821\n",
       "Infubinol     52.884795  51.820584  43.128684            6.567243  0.492236\n",
       "Ketapril      55.235638  53.698743  68.553577            8.279709  0.603860\n",
       "Naftisol      54.331565  52.509285  66.173479            8.134708  0.596466\n",
       "Placebo       54.033581  52.288934  61.168083            7.821003  0.581331\n",
       "Propriva      52.393463  50.909965  43.138803            6.568014  0.525862\n",
       "Ramicane      40.216745  40.673236  23.486704            4.846308  0.320955\n",
       "Stelasyn      54.233149  52.431737  59.450562            7.710419  0.573111\n",
       "Zoniferol     53.236507  51.818479  48.533355            6.966589  0.516398"
      ]
     },
     "execution_count": 7,
     "metadata": {},
     "output_type": "execute_result"
    }
   ],
   "source": [
    "#grouped dataframe by drug regiment\n",
    "grouped_by_drug_df = cleaned_full_data_df.groupby(\"Drug Regimen\")\n",
    "\n",
    "# mean, median, variance, standard deviation, and SEM of the tumor volume. \n",
    "sum_df = pd.DataFrame({\"Mean\": grouped_by_drug_df['Tumor Volume (mm3)'].mean(), \n",
    "                      \"Median\": grouped_by_drug_df['Tumor Volume (mm3)'].median(),\n",
    "                      \"Variance\": grouped_by_drug_df['Tumor Volume (mm3)'].var(),\n",
    "                      \"Standard Deviation\": grouped_by_drug_df['Tumor Volume (mm3)'].std(),\n",
    "                      \"SEM\": grouped_by_drug_df[\"Tumor Volume (mm3)\"].sem()})\n",
    "sum_df"
   ]
  },
  {
   "cell_type": "markdown",
   "metadata": {},
   "source": [
    "## Bar and Pie Charts"
   ]
  },
  {
   "cell_type": "code",
   "execution_count": 8,
   "metadata": {},
   "outputs": [
    {
     "data": {
      "image/png": "[encoded data removed]",
      "text/plain": [
       "<Figure size 1440x720 with 1 Axes>"
      ]
     },
     "metadata": {
      "needs_background": "light"
     },
     "output_type": "display_data"
    }
   ],
   "source": [
    "# Generate a bar plot showing the total number of measurements taken on each drug regimen using pandas.\n",
    "\n",
    "#creating count of measurements\n",
    "regimen_count = grouped_by_drug_df['Tumor Volume (mm3)'].count()\n",
    "\n",
    "#plot with pandas\n",
    "regimen_count_chart= regimen_count.plot(kind=\"bar\", color='blue', figsize=(20,10))\n",
    "\n",
    "#plot labels \n",
    "regimen_count_chart.set_title(\"Number of Measurements per Drug Regimen\", fontsize=20)\n",
    "regimen_count_chart.set_ylabel(\"Measurements\", fontsize=16)\n",
    "regimen_count_chart.set_xlabel(\"Drug Regimen\", fontsize=16)\n",
    "regimen_count_chart.set_xticklabels(regimen_count.index.values, fontsize=14, rotation=\"vertical\")\n",
    "plt.savefig(\"Images/barchart.png\")\n",
    "plt.show()\n"
   ]
  },
  {
   "cell_type": "code",
   "execution_count": 10,
   "metadata": {},
   "outputs": [
    {
     "data": {
      "image/png": "[encoded data removed]",
      "text/plain": [
       "<Figure size 1440x720 with 1 Axes>"
      ]
     },
     "metadata": {
      "needs_background": "light"
     },
     "output_type": "display_data"
    }
   ],
   "source": [
    "# Generate a bar plot showing the total number of measurements taken on each drug regimen using pyplot.\n",
    "\n",
    "x_axis = np.arange(len(grouped_by_drug_df))\n",
    "plt.figure(figsize=(20,10))\n",
    "tick_locations = [value for value in x_axis]\n",
    "plt.bar(x_axis, regimen_count, color=\"blue\", alpha=1, align='center', width=.5)\n",
    "\n",
    "#plot labels\n",
    "plt.xticks(tick_locations, regimen_count.index.values, fontsize=14, rotation=\"vertical\")\n",
    "plt.title(\"Number of Measurements per Drug Regimen\", fontsize=20)\n",
    "plt.ylabel(\"Measurements\", fontsize=16)\n",
    "plt.xlabel(\"Drug Regimen\", fontsize=16)\n",
    "plt.show()"
   ]
  },
  {
   "cell_type": "code",
   "execution_count": 11,
   "metadata": {},
   "outputs": [
    {
     "data": {
      "image/png": "[encoded data removed]",
      "text/plain": [
       "<Figure size 432x288 with 1 Axes>"
      ]
     },
     "metadata": {},
     "output_type": "display_data"
    }
   ],
   "source": [
    "# Generate a pie plot showing the distribution of female versus male mice using pandas\n",
    "\n",
    "num_of_mice=mouse_metadata_df['Sex'].value_counts()\n",
    "num_of_mice.plot(kind='pie', subplots=True, autopct=\"%.1f%%\", title='Female vs Male Mice')\n",
    "plt.show()"
   ]
  },
  {
   "cell_type": "code",
   "execution_count": 12,
   "metadata": {},
   "outputs": [
    {
     "data": {
      "image/png": "[encoded data removed]",
      "text/plain": [
       "<Figure size 432x288 with 1 Axes>"
      ]
     },
     "metadata": {},
     "output_type": "display_data"
    }
   ],
   "source": [
    "# Generate a pie plot showing the distribution of female versus male mice using pyplot\n",
    "\n",
    "num_of_female_mice = len(mouse_metadata_df.loc[mouse_metadata_df['Sex'] == \"Female\"])\n",
    "num_of_male_mice = len(mouse_metadata_df.loc[mouse_metadata_df['Sex'] == \"Male\"])\n",
    "\n",
    "labels=[\"Male\", \"Female\"]\n",
    "numbers = [num_of_male_mice, num_of_female_mice]\n",
    "colors= [\"blue\", \"orange\"]\n",
    "explode=[0,0]\n",
    "\n",
    "plt.pie(numbers, explode=explode,labels=labels, colors=colors, autopct=\"%.1f%%\")\n",
    "plt.savefig(\"Images/piechart.png\")\n",
    "plt.show()"
   ]
  },
  {
   "cell_type": "markdown",
   "metadata": {},
   "source": [
    "## Quartiles, Outliers and Boxplots"
   ]
  },
  {
   "cell_type": "code",
   "execution_count": 13,
   "metadata": {},
   "outputs": [],
   "source": [
    "grouped_clean_by_mouse = cleaned_full_data_df.groupby(\"Mouse ID\")\n",
    "max_time_df = grouped_clean_by_mouse[\"Timepoint\"].max()\n",
    "cleaned_full_data_df = pd.merge(cleaned_full_data_df, max_time_df, on=\"Mouse ID\")"
   ]
  },
  {
   "cell_type": "code",
   "execution_count": 14,
   "metadata": {},
   "outputs": [
    {
     "data": {
      "text/html": [
       "<div>\n",
       "<style scoped>\n",
       "    .dataframe tbody tr th:only-of-type {\n",
       "        vertical-align: middle;\n",
       "    }\n",
       "\n",
       "    .dataframe tbody tr th {\n",
       "        vertical-align: top;\n",
       "    }\n",
       "\n",
       "    .dataframe thead th {\n",
       "        text-align: right;\n",
       "    }\n",
       "</style>\n",
       "<table border=\"1\" class=\"dataframe\">\n",
       "  <thead>\n",
       "    <tr style=\"text-align: right;\">\n",
       "      <th></th>\n",
       "      <th>mouse_id</th>\n",
       "      <th>drug_regimen</th>\n",
       "      <th>final_tumor</th>\n",
       "    </tr>\n",
       "  </thead>\n",
       "  <tbody>\n",
       "    <tr>\n",
       "      <th>0</th>\n",
       "      <td>s185</td>\n",
       "      <td>Capomulin</td>\n",
       "      <td>23.343598</td>\n",
       "    </tr>\n",
       "    <tr>\n",
       "      <th>1</th>\n",
       "      <td>x401</td>\n",
       "      <td>Capomulin</td>\n",
       "      <td>28.484033</td>\n",
       "    </tr>\n",
       "    <tr>\n",
       "      <th>2</th>\n",
       "      <td>m601</td>\n",
       "      <td>Capomulin</td>\n",
       "      <td>28.430964</td>\n",
       "    </tr>\n",
       "    <tr>\n",
       "      <th>3</th>\n",
       "      <td>f966</td>\n",
       "      <td>Capomulin</td>\n",
       "      <td>30.485985</td>\n",
       "    </tr>\n",
       "    <tr>\n",
       "      <th>4</th>\n",
       "      <td>u364</td>\n",
       "      <td>Capomulin</td>\n",
       "      <td>31.023923</td>\n",
       "    </tr>\n",
       "    <tr>\n",
       "      <th>...</th>\n",
       "      <td>...</td>\n",
       "      <td>...</td>\n",
       "      <td>...</td>\n",
       "    </tr>\n",
       "    <tr>\n",
       "      <th>95</th>\n",
       "      <td>x226</td>\n",
       "      <td>Ceftamin</td>\n",
       "      <td>45.000000</td>\n",
       "    </tr>\n",
       "    <tr>\n",
       "      <th>96</th>\n",
       "      <td>x581</td>\n",
       "      <td>Ceftamin</td>\n",
       "      <td>64.634949</td>\n",
       "    </tr>\n",
       "    <tr>\n",
       "      <th>97</th>\n",
       "      <td>x822</td>\n",
       "      <td>Ceftamin</td>\n",
       "      <td>61.386660</td>\n",
       "    </tr>\n",
       "    <tr>\n",
       "      <th>98</th>\n",
       "      <td>y769</td>\n",
       "      <td>Ceftamin</td>\n",
       "      <td>68.594745</td>\n",
       "    </tr>\n",
       "    <tr>\n",
       "      <th>99</th>\n",
       "      <td>y865</td>\n",
       "      <td>Ceftamin</td>\n",
       "      <td>64.729837</td>\n",
       "    </tr>\n",
       "  </tbody>\n",
       "</table>\n",
       "<p>100 rows × 3 columns</p>\n",
       "</div>"
      ],
      "text/plain": [
       "   mouse_id drug_regimen  final_tumor\n",
       "0      s185    Capomulin    23.343598\n",
       "1      x401    Capomulin    28.484033\n",
       "2      m601    Capomulin    28.430964\n",
       "3      f966    Capomulin    30.485985\n",
       "4      u364    Capomulin    31.023923\n",
       "..      ...          ...          ...\n",
       "95     x226     Ceftamin    45.000000\n",
       "96     x581     Ceftamin    64.634949\n",
       "97     x822     Ceftamin    61.386660\n",
       "98     y769     Ceftamin    68.594745\n",
       "99     y865     Ceftamin    64.729837\n",
       "\n",
       "[100 rows x 3 columns]"
      ]
     },
     "execution_count": 14,
     "metadata": {},
     "output_type": "execute_result"
    }
   ],
   "source": [
    "\n",
    "mouse_id = []\n",
    "final_tumor=[]\n",
    "drugs = []\n",
    "\n",
    "drug_regimen = ['Capomulin', 'Ramicane', 'Infubinol', 'Ceftamin']\n",
    "for drug in drug_regimen:\n",
    "    for row in range(len(cleaned_full_data_df)):\n",
    "        if cleaned_full_data_df.loc[row, \"Drug Regimen\"] == drug:\n",
    "            if cleaned_full_data_df.loc[row, \"Timepoint_x\"]==cleaned_full_data_df.loc[row, 'Timepoint_y']:\n",
    "                drugs.append(cleaned_full_data_df.loc[row, 'Drug Regimen'])\n",
    "                final_tumor.append(cleaned_full_data_df.loc[row, \"Tumor Volume (mm3)\"])\n",
    "                mouse_id.append(cleaned_full_data_df.loc[row, \"Mouse ID\"])\n",
    "\n",
    "\n",
    "final_tumor_df = pd.DataFrame({'mouse_id':mouse_id, \n",
    "                               'drug_regimen': drugs, \n",
    "                               'final_tumor': final_tumor})\n",
    "final_tumor_df"
   ]
  },
  {
   "cell_type": "code",
   "execution_count": 15,
   "metadata": {},
   "outputs": [
    {
     "name": "stdout",
     "output_type": "stream",
     "text": [
      "IQR is 7.781863460000004.\n",
      "Values below 20.70456164999999 could be outliers.\n",
      "Values above 51.83201549 could be outliers.\n"
     ]
    }
   ],
   "source": [
    "#calculating quartiles for capomulin\n",
    "final_tumor_cap= final_tumor_df.loc[final_tumor_df['drug_regimen'] == 'Capomulin']\n",
    "\n",
    "quartiles = final_tumor_cap[\"final_tumor\"].quantile([0.25,0.5,0.75])\n",
    "lowerqcap = quartiles[0.25]\n",
    "upperqcap = quartiles[0.75]\n",
    "iqr = upperqcap-lowerqcap\n",
    "\n",
    "lower_bound_cap = lowerqcap - (1.5*iqr)\n",
    "upper_bound_cap = upperqcap + (1.5*iqr)\n",
    "\n",
    "print(f'IQR is {iqr}.')\n",
    "print(f\"Values below {lower_bound_cap} could be outliers.\")\n",
    "print(f\"Values above {upper_bound_cap} could be outliers.\")"
   ]
  },
  {
   "cell_type": "code",
   "execution_count": 16,
   "metadata": {},
   "outputs": [
    {
     "name": "stdout",
     "output_type": "stream",
     "text": [
      "IQR is 9.098536719999998.\n",
      "Values below 17.912664470000003 could be outliers.\n",
      "Values above 54.30681135 could be outliers.\n"
     ]
    }
   ],
   "source": [
    "#calculating quartiles for ramicane\n",
    "final_tumor_ram= final_tumor_df.loc[final_tumor_df['drug_regimen'] == 'Ramicane']\n",
    "\n",
    "quartiles = final_tumor_ram[\"final_tumor\"].quantile([0.25,0.5,0.75])\n",
    "lowerqram = quartiles[0.25]\n",
    "upperqram = quartiles[0.75]\n",
    "iqr = upperqram-lowerqram\n",
    "\n",
    "lower_bound_ram = lowerqram - (1.5*iqr)\n",
    "upper_bound_ram = upperqram + (1.5*iqr)\n",
    "\n",
    "print(f'IQR is {iqr}.')\n",
    "print(f\"Values below {lower_bound_ram} could be outliers.\")\n",
    "print(f\"Values above {upper_bound_ram} could be outliers.\")"
   ]
  },
  {
   "cell_type": "code",
   "execution_count": 17,
   "metadata": {},
   "outputs": [
    {
     "name": "stdout",
     "output_type": "stream",
     "text": [
      "IQR is 11.477135160000003.\n",
      "Values below 36.83290494999999 could be outliers.\n",
      "Values above 82.74144559000001 could be outliers.\n"
     ]
    }
   ],
   "source": [
    "#calculating quartiles for infubinol\n",
    "final_tumor_inf= final_tumor_df.loc[final_tumor_df['drug_regimen'] == 'Infubinol']\n",
    "\n",
    "quartiles = final_tumor_inf[\"final_tumor\"].quantile([0.25,0.5,0.75])\n",
    "lowerqinf = quartiles[0.25]\n",
    "upperqinf = quartiles[0.75]\n",
    "iqr = upperqinf-lowerqinf\n",
    "\n",
    "lower_bound_inf = lowerqinf - (1.5*iqr)\n",
    "upper_bound_inf = upperqinf + (1.5*iqr)\n",
    "\n",
    "print(f'IQR is {iqr}.')\n",
    "print(f\"Values below {lower_bound_inf} could be outliers.\")\n",
    "print(f\"Values above {upper_bound_inf} could be outliers.\")"
   ]
  },
  {
   "cell_type": "code",
   "execution_count": 18,
   "metadata": {},
   "outputs": [
    {
     "name": "stdout",
     "output_type": "stream",
     "text": [
      "IQR is 15.577752179999997.\n",
      "Values below 25.355449580000002 could be outliers.\n",
      "Values above 87.66645829999999 could be outliers.\n"
     ]
    }
   ],
   "source": [
    "#calculating quartiles for ceftamin\n",
    "final_tumor_cef= final_tumor_df.loc[final_tumor_df['drug_regimen'] == 'Ceftamin']\n",
    "\n",
    "quartiles = final_tumor_cef[\"final_tumor\"].quantile([0.25,0.5,0.75])\n",
    "lowerqinf = quartiles[0.25]\n",
    "upperqinf = quartiles[0.75]\n",
    "iqr = upperqinf-lowerqinf\n",
    "\n",
    "lower_bound_inf = lowerqinf - (1.5*iqr)\n",
    "upper_bound_inf = upperqinf + (1.5*iqr)\n",
    "\n",
    "print(f'IQR is {iqr}.')\n",
    "print(f\"Values below {lower_bound_inf} could be outliers.\")\n",
    "print(f\"Values above {upper_bound_inf} could be outliers.\")"
   ]
  },
  {
   "cell_type": "code",
   "execution_count": 19,
   "metadata": {},
   "outputs": [
    {
     "data": {
      "image/png": "[encoded data removed]",
      "text/plain": [
       "<Figure size 864x720 with 1 Axes>"
      ]
     },
     "metadata": {
      "needs_background": "light"
     },
     "output_type": "display_data"
    }
   ],
   "source": [
    "#data for boxplots\n",
    "cap = final_tumor_cap['final_tumor'] \n",
    "ram = final_tumor_ram['final_tumor']\n",
    "inf = final_tumor_inf['final_tumor']\n",
    "cef = final_tumor_cef['final_tumor']\n",
    "data = [cap, ram, inf, cef] \n",
    "\n",
    "#creation of figure  \n",
    "fig = plt.figure(figsize =(12, 10)) \n",
    "ax = fig.add_subplot(111) \n",
    "\n",
    "#creation and customize boxplots\n",
    "bp = ax.boxplot(data)\n",
    "plt.setp(bp['fliers'], color='blue', marker='+')\n",
    "plt.setp(bp['medians'], color='red', linewidth = 1.5)\n",
    "ax.set_ylabel(\"Tumor Volume (mm3)\", fontsize=14)\n",
    "ax.set_xlabel('Drug Regimen', fontsize=14)\n",
    "ax.set_xticklabels(['Capomulin', 'Ramicane', 'Infubinol', 'Ceftamin']) \n",
    "plt.title(\"Tumor Volume per Drug Regimen\", fontsize=18) \n",
    "plt.savefig(\"Images/boxplots.png\")\n",
    "plt.show(bp)"
   ]
  },
  {
   "cell_type": "markdown",
   "metadata": {},
   "source": [
    "## Line and Scatter Plots"
   ]
  },
  {
   "cell_type": "code",
   "execution_count": 23,
   "metadata": {},
   "outputs": [
    {
     "data": {
      "image/png": "[encoded data removed]",
      "text/plain": [
       "<Figure size 576x576 with 1 Axes>"
      ]
     },
     "metadata": {
      "needs_background": "light"
     },
     "output_type": "display_data"
    }
   ],
   "source": [
    "# Generate a line plot of tumor volume vs. time point for a mouse treated with Capomulin\n",
    "\n",
    "mouse_df = cleaned_full_data_df.loc[cleaned_full_data_df['Mouse ID']== 'r554']\n",
    "\n",
    "#generate line plot\n",
    "fig2 = plt.figure(figsize=(8, 8))\n",
    "plt.ylim(0, 50)\n",
    "\n",
    "x_axis = mouse_df['Timepoint_x']\n",
    "y_axis = mouse_df['Tumor Volume (mm3)']\n",
    "\n",
    "tick_locations = [value for value in x_axis]\n",
    "plt.xticks(tick_locations, [0, 5, 10, 15, 20, 25, 30, 35, 40, 45])\n",
    "\n",
    "plt.plot(x_axis, y_axis, marker=\"D\")\n",
    "\n",
    "#plot labels\n",
    "plt.title(\"Mouse r554\", fontsize=18)\n",
    "plt.xlabel(\"Timepoint of measurement\", fontsize=14)\n",
    "plt.ylabel(\"Tumor Volume (mm3)\", fontsize=14)\n",
    "plt.savefig(\"Images/linechart.png\")\n",
    "plt.show()"
   ]
  },
  {
   "cell_type": "code",
   "execution_count": 24,
   "metadata": {},
   "outputs": [],
   "source": [
    "# Gene rate a scatter plot of averagetumor volume vs. mouse weight for the Capomulin regimen\n",
    "mouse_cap_treatment =  mouse_metadata.loc[mouse_metadata['Drug Regimen']== 'Capomulin', :]\n",
    "mouse_tumor_cap =  cleaned_full_data_df.loc[cleaned_full_data_df['Drug Regimen']== 'Capomulin', :]\n",
    "grouped_by_mouse = mouse_tumor_cap.groupby(\"Mouse ID\") \n",
    "\n",
    "#merge dataframe to make chart\n",
    "avg_tumor_per_mouse_df = pd.merge(grouped_by_mouse[\"Tumor Volume (mm3)\"].mean(), mouse_cap_treatment, on=\"Mouse ID\")"
   ]
  },
  {
   "cell_type": "code",
   "execution_count": 25,
   "metadata": {},
   "outputs": [
    {
     "data": {
      "image/png": "[encoded data removed]",
      "text/plain": [
       "<Figure size 576x576 with 1 Axes>"
      ]
     },
     "metadata": {
      "needs_background": "light"
     },
     "output_type": "display_data"
    }
   ],
   "source": [
    "#generate the scatter plot\n",
    "fig3 = plt.figure(figsize=(8, 8))\n",
    "y_axis = avg_tumor_per_mouse_df[\"Weight (g)\"]\n",
    "x_axis = avg_tumor_per_mouse_df[\"Tumor Volume (mm3)\"]\n",
    "plt.scatter(x_axis, y_axis, s=100, marker=\"o\", facecolors=\"blue\", edgecolors='black')\n",
    "\n",
    "#plot labels\n",
    "plt.xlabel(\"Weight of Mouse in grams\", fontsize=14)\n",
    "plt.ylabel(\"Average Tumor Volume (mm3)\", fontsize=14)\n",
    "plt.title(\"Average Tumor Volume vs Weight of Mouse\", fontsize=18)\n",
    "plt.savefig(\"Images/scatter.png\")\n",
    "plt.show()"
   ]
  },
  {
   "cell_type": "markdown",
   "metadata": {},
   "source": [
    "## Correlation and Regression"
   ]
  },
  {
   "cell_type": "code",
   "execution_count": 26,
   "metadata": {},
   "outputs": [
    {
     "name": "stdout",
     "output_type": "stream",
     "text": [
      "The correlation between the weight of mouse and average tumor volume is 0.84.\n"
     ]
    }
   ],
   "source": [
    "correlation = st.pearsonr(x_axis,y_axis)\n",
    "print(f\"The correlation between the weight of mouse and average tumor volume is {round(correlation[0],2)}.\")"
   ]
  },
  {
   "cell_type": "code",
   "execution_count": 27,
   "metadata": {},
   "outputs": [
    {
     "data": {
      "image/png": "[encoded data removed]",
      "text/plain": [
       "<Figure size 576x576 with 1 Axes>"
      ]
     },
     "metadata": {
      "needs_background": "light"
     },
     "output_type": "display_data"
    }
   ],
   "source": [
    "fig3 = plt.figure(figsize=(8, 8))\n",
    "y_axis = avg_tumor_per_mouse_df[\"Weight (g)\"]\n",
    "x_axis = avg_tumor_per_mouse_df[\"Tumor Volume (mm3)\"]\n",
    "(slope, intercept, rvalue, pvalue, stderr) = linregress(x_axis, y_axis)\n",
    "regress_values = x_axis * slope + intercept\n",
    "line_eq = \"y = \" + str(round(slope,2)) + \"x + \" + str(round(intercept,2))\n",
    "\n",
    "plt.scatter(x_axis, y_axis, s=100, marker=\"o\", facecolors=\"blue\", edgecolors='black')\n",
    "plt.plot(x_axis,regress_values,\"r-\")\n",
    "plt.annotate(line_eq,(42,16),fontsize=16, color=\"red\")\n",
    "\n",
    "plt.xlabel(\"Weight of Mouse in grams\", fontsize=14)\n",
    "plt.ylabel(\"Average Tumor Volume (mm3)\", fontsize=14)\n",
    "plt.title(\"Average Tumor Volume vs Weight of Mouse\", fontsize=18)\n",
    "plt.savefig(\"Images/lineregress.png\")\n",
    "plt.show()"
   ]
  },
  {
   "cell_type": "code",
   "execution_count": null,
   "metadata": {},
   "outputs": [],
   "source": []
  }
 ],
 "metadata": {
  "anaconda-cloud": {},
  "kernelspec": {
   "display_name": "Python 3",
   "language": "python",
   "name": "python3"
  },
  "language_info": {
   "codemirror_mode": {
    "name": "ipython",
    "version": 3
   },
   "file_extension": ".py",
   "mimetype": "text/x-python",
   "name": "python",
   "nbconvert_exporter": "python",
   "pygments_lexer": "ipython3",
   "version": "3.6.10"
  }
 },
 "nbformat": 4,
 "nbformat_minor": 4
}
